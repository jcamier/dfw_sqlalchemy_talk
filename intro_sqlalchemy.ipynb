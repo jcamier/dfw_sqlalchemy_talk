{
 "cells": [
  {
   "cell_type": "markdown",
   "metadata": {},
   "source": [
    "<h1>Introduction to <i style=\"color:red;\">SQLAlchemy</i></h1>"
   ]
  },
  {
   "cell_type": "code",
   "execution_count": 1,
   "metadata": {},
   "outputs": [
    {
     "data": {
      "text/html": [
       "<img src=\"sqla_logo.png\" width=\"300\"/>\n"
      ],
      "text/plain": [
       "<IPython.core.display.HTML object>"
      ]
     },
     "metadata": {},
     "output_type": "display_data"
    }
   ],
   "source": [
    "%%HTML\n",
    "<img src=\"sqla_logo.png\" width=\"300\"/>"
   ]
  },
  {
   "cell_type": "markdown",
   "metadata": {},
   "source": [
    "## <i>by Jack Camier, Python Developer</i>"
   ]
  },
  {
   "cell_type": "markdown",
   "metadata": {},
   "source": [
    "SQLAlchemy is well documented at: https://www.sqlalchemy.org/"
   ]
  },
  {
   "cell_type": "markdown",
   "metadata": {},
   "source": [
    "<h2>created by <i style=\"color:blue;\">Mike Bayer</i></h2>"
   ]
  },
  {
   "cell_type": "markdown",
   "metadata": {},
   "source": [
    "https://github.com/zzzeek"
   ]
  },
  {
   "cell_type": "markdown",
   "metadata": {},
   "source": [
    "## There are a lot of tutorials on the subject, honestly too many to count.\n",
    "## I hope to provide a tutorial that provides, some cookbook recipes (code snippets) and a little bit more visualization via a Jupyter Notebook to help developers better grasp the concepts than what I have found on the internet\n",
    "<hr>"
   ]
  },
  {
   "cell_type": "markdown",
   "metadata": {},
   "source": [
    "## \"SQLAlchemy is the Python SQL toolkit and Object Relational Mapper that gives application developers the full power and flexibility of SQL\" - Mike Bayer\n",
    "https://www.sqlalchemy.org/\n",
    "<hr>"
   ]
  },
  {
   "cell_type": "markdown",
   "metadata": {},
   "source": [
    "## Our tutorial today will be using SQLite"
   ]
  },
  {
   "cell_type": "code",
   "execution_count": 2,
   "metadata": {},
   "outputs": [
    {
     "data": {
      "text/html": [
       "<img src=\"sqlite_logo.gif\" width=\"200\"/>\n"
      ],
      "text/plain": [
       "<IPython.core.display.HTML object>"
      ]
     },
     "metadata": {},
     "output_type": "display_data"
    }
   ],
   "source": [
    "%%HTML\n",
    "<img src=\"sqlite_logo.gif\" width=\"200\"/>"
   ]
  },
  {
   "cell_type": "markdown",
   "metadata": {},
   "source": [
    "https://www.sqlite.org/index.html"
   ]
  },
  {
   "cell_type": "markdown",
   "metadata": {},
   "source": [
    "## The reason being you won't have to download or install anything in regards to a database perspective to do this tutorial \n",
    "## Also, `sqlite3` comes built-in with standard `Cpython`"
   ]
  },
  {
   "cell_type": "code",
   "execution_count": 3,
   "metadata": {},
   "outputs": [],
   "source": [
    "import sqlite3 # That's it!"
   ]
  },
  {
   "cell_type": "markdown",
   "metadata": {},
   "source": [
    "## \"SQLite is a C-language library that implements a small, fast, self-contained, high-reliability, full-featured, SQL database engine. SQLite is the most used database engine in the world. SQLite is built into all mobile phones and most computers and comes bundled inside countless other applications that people use every day.\"\n",
    "https://www.sqlite.org/index.html"
   ]
  },
  {
   "cell_type": "markdown",
   "metadata": {},
   "source": [
    "## Now you could do things like the following to work with sqlite using the standard library `sqlite3` such as:"
   ]
  },
  {
   "cell_type": "code",
   "execution_count": 4,
   "metadata": {},
   "outputs": [
    {
     "data": {
      "text/plain": [
       "{'id': 'b54360fe-7a28-4db4-b7d9-c22290d63380',\n",
       " 'first_name': 'Bill',\n",
       " 'last_name': 'Smith',\n",
       " 'email': 'b.smith@mail.com'}"
      ]
     },
     "execution_count": 4,
     "metadata": {},
     "output_type": "execute_result"
    }
   ],
   "source": [
    "import uuid\n",
    "\n",
    "sql_values = {\n",
    "\"id\": str(uuid.uuid4()),\n",
    "\"first_name\": \"Bill\",\n",
    "\"last_name\": \"Smith\",\n",
    "\"email\": \"b.smith@mail.com\"\n",
    "}\n",
    "\n",
    "sql_values"
   ]
  },
  {
   "cell_type": "code",
   "execution_count": 5,
   "metadata": {},
   "outputs": [
    {
     "data": {
      "text/plain": [
       "<sqlite3.Cursor at 0x10660bc00>"
      ]
     },
     "execution_count": 5,
     "metadata": {},
     "output_type": "execute_result"
    }
   ],
   "source": [
    "# Create connection session and database\n",
    "conn = sqlite3.connect('example.db')\n",
    "\n",
    "# Create cursor and assign it to `c`\n",
    "c = conn.cursor()\n",
    "\n",
    "# Create table using raw SQL\n",
    "c.execute('''CREATE TABLE users (id text, first_name text, last_name text, email text)''')"
   ]
  },
  {
   "cell_type": "code",
   "execution_count": 6,
   "metadata": {},
   "outputs": [],
   "source": [
    "# Insert a row of data \n",
    "c.execute('INSERT INTO users VALUES (:id, :first_name, :last_name, :email)', sql_values)\n",
    "conn.commit()"
   ]
  },
  {
   "cell_type": "code",
   "execution_count": 7,
   "metadata": {},
   "outputs": [
    {
     "name": "stdout",
     "output_type": "stream",
     "text": [
      "('b54360fe-7a28-4db4-b7d9-c22290d63380', 'Bill', 'Smith', 'b.smith@mail.com')\n"
     ]
    }
   ],
   "source": [
    "# Select the data and print out row results\n",
    "sql = c.execute('''SELECT * from users''')\n",
    "for row in sql:\n",
    "    print(row)"
   ]
  },
  {
   "cell_type": "code",
   "execution_count": 8,
   "metadata": {},
   "outputs": [],
   "source": [
    "# Remove temporary `example.db` database\n",
    "import os\n",
    "os.remove(\"example.db\")"
   ]
  },
  {
   "cell_type": "markdown",
   "metadata": {},
   "source": [
    "## For simple things like this, we probably don't need SQLAlchemy. But normally within a short period of time, requirments of a project or feautures of a product change rapidly and we need to do something more like:"
   ]
  },
  {
   "cell_type": "code",
   "execution_count": 9,
   "metadata": {},
   "outputs": [
    {
     "data": {
      "text/plain": [
       "\"\\nselect \\n  'today - ' || to_char(trunc(sysdate),'Mon FMDDFM'),\\n  trunc(sysdate) as deadline\\nfrom dual \\nUNION\\nselect \\n  'tomorrow - '|| to_char(trunc(sysdate+1),'Mon FMDDFM'), \\n  trunc(sysdate+1) as deadline\\nfrom dual \\nUNION\\nselect\\n  'next week - '|| to_char(trunc(sysdate+7),'Mon FMDDFM'), \\n  trunc(sysdate+7) as deadline\\nfrom dual \\nUNION\\nselect \\n  'next month - '|| to_char(trunc(ADD_MONTHS(sysdate,1)),'Mon FMDDFM'), \\n  trunc(ADD_MONTHS(sysdate,1)) as deadline \\nfrom dual\\nUNION\\nselect \\n  name || ' - ' || to_char(deadline, 'Mon FMDDFM'), \\n  deadline\\nfrom ticket_deadlines \\nwhere project_id = :project_id\\nand deadline >= trunc(sysdate)\\norder by deadline\\n\""
      ]
     },
     "execution_count": 9,
     "metadata": {},
     "output_type": "execute_result"
    }
   ],
   "source": [
    "\"\"\"\n",
    "select \n",
    "  'today - ' || to_char(trunc(sysdate),'Mon FMDDFM'),\n",
    "  trunc(sysdate) as deadline\n",
    "from dual \n",
    "UNION\n",
    "select \n",
    "  'tomorrow - '|| to_char(trunc(sysdate+1),'Mon FMDDFM'), \n",
    "  trunc(sysdate+1) as deadline\n",
    "from dual \n",
    "UNION\n",
    "select\n",
    "  'next week - '|| to_char(trunc(sysdate+7),'Mon FMDDFM'), \n",
    "  trunc(sysdate+7) as deadline\n",
    "from dual \n",
    "UNION\n",
    "select \n",
    "  'next month - '|| to_char(trunc(ADD_MONTHS(sysdate,1)),'Mon FMDDFM'), \n",
    "  trunc(ADD_MONTHS(sysdate,1)) as deadline \n",
    "from dual\n",
    "UNION\n",
    "select \n",
    "  name || ' - ' || to_char(deadline, 'Mon FMDDFM'), \n",
    "  deadline\n",
    "from ticket_deadlines \n",
    "where project_id = :project_id\n",
    "and deadline >= trunc(sysdate)\n",
    "order by deadline\n",
    "\"\"\"\n",
    "# https://philip.greenspun.com/sql/complex-queries.html"
   ]
  },
  {
   "cell_type": "markdown",
   "metadata": {},
   "source": [
    "## \"I wrote a reporting query once that was 700 lines long and visited 27 different tables in lookups or joins\" - Greg Kemnitz\n",
    "https://www.quora.com/Whats-the-most-complex-SQL-query-you-ever-wrote"
   ]
  },
  {
   "cell_type": "markdown",
   "metadata": {},
   "source": [
    "## Figuring out how to do this in raw SQL can be very challenging if you are not a DBA or well versed in SQL syntax.\n",
    "## With SQLAlchemy we can use the abstraction layer and write python code we are more familiar with and let the toolkit do the SQL magic behind the scenes"
   ]
  },
  {
   "cell_type": "markdown",
   "metadata": {},
   "source": [
    "## First there are two main components of SQLAlchemy:\n",
    "## \"SQLAlchemy consists of two distinct components, known as the <i style=\"color:red;\">Core</i> and the <i style=\"color:red;\">ORM</i>. \n",
    "## The Core is itself a fully featured SQL abstraction toolkit, providing a smooth layer of abstraction over a wide variety of DBAPI implementations and behaviors, as well as a SQL Expression Language which allows expression of the SQL language via generative Python expressions.\"\n",
    "\n",
    "## \"The Object Relational Mapper (ORM) is then an optional package which builds upon the Core.\"\n",
    "https://www.sqlalchemy.org/features.html"
   ]
  },
  {
   "cell_type": "code",
   "execution_count": 10,
   "metadata": {},
   "outputs": [
    {
     "data": {
      "text/html": [
       "<img src=\"sqla_arch_small.png\" width=\"500\"/>\n",
       "\n",
       "https://docs.sqlalchemy.org/en/13/intro.html\n"
      ],
      "text/plain": [
       "<IPython.core.display.HTML object>"
      ]
     },
     "metadata": {},
     "output_type": "display_data"
    }
   ],
   "source": [
    "%%HTML\n",
    "<img src=\"sqla_arch_small.png\" width=\"500\"/>\n",
    "\n",
    "https://docs.sqlalchemy.org/en/13/intro.html"
   ]
  },
  {
   "cell_type": "markdown",
   "metadata": {},
   "source": [
    "## To get sqlalchemy installed, all you have to do is:\n",
    "`pip install SQLAlchemy`\n",
    "## Then"
   ]
  },
  {
   "cell_type": "code",
   "execution_count": 11,
   "metadata": {},
   "outputs": [],
   "source": [
    "import sqlalchemy"
   ]
  },
  {
   "cell_type": "markdown",
   "metadata": {},
   "source": [
    "## In this talk, I am using version:"
   ]
  },
  {
   "cell_type": "code",
   "execution_count": 12,
   "metadata": {},
   "outputs": [
    {
     "data": {
      "text/plain": [
       "'1.3.9'"
      ]
     },
     "execution_count": 12,
     "metadata": {},
     "output_type": "execute_result"
    }
   ],
   "source": [
    "sqlalchemy.__version__"
   ]
  },
  {
   "cell_type": "markdown",
   "metadata": {},
   "source": [
    "# To get started, we will commence looking at the Core component of SQLAlchemy"
   ]
  },
  {
   "cell_type": "markdown",
   "metadata": {},
   "source": [
    "## Please note that individual database flavors, also called `dialects`, enumerate the available DBAPIs for each database\n",
    "## Most seasoned developers learn that each database has its own nuances and slight variations of SQL syntax depending on the database. \n",
    "## Here are a list of popular `dialects` for SQLAlchemy:"
   ]
  },
  {
   "cell_type": "markdown",
   "metadata": {},
   "source": [
    "# - PostgreSQL\n",
    "https://docs.sqlalchemy.org/en/13/dialects/postgresql.html\n",
    "# - MySQL\n",
    "https://docs.sqlalchemy.org/en/13/dialects/mysql.html\n",
    "# - SQLite\n",
    "https://docs.sqlalchemy.org/en/13/dialects/sqlite.html\n",
    "# - Oracle\n",
    "https://docs.sqlalchemy.org/en/13/dialects/oracle.html\n",
    "# - Microsoft SQL Server\n",
    "https://docs.sqlalchemy.org/en/13/dialects/mssql.html\n",
    "<hr>"
   ]
  },
  {
   "cell_type": "markdown",
   "metadata": {},
   "source": [
    "## Since our focus will be SQLite, here are the main data type affinities:\n",
    "* TEXT\n",
    "* NUMERIC\n",
    "* INTEGER\n",
    "* REAL\n",
    "* BLOB\n",
    "\n",
    "https://www.sqlite.org/datatype3.html#affinity\n",
    "<hr>"
   ]
  },
  {
   "cell_type": "markdown",
   "metadata": {},
   "source": [
    "## \"The SQLAlchemy Expression Language presents a system of representing relational database structures and expressions using Python constructs. These constructs are modeled to resemble those of the underlying database as closely as possible, while providing a modicum of abstraction of the various implementation differences between database backends.\"\n",
    "https://docs.sqlalchemy.org/en/13/core/tutorial.html"
   ]
  },
  {
   "cell_type": "markdown",
   "metadata": {},
   "source": [
    "##  <i style=\"color:red;\">Huh!?</i> Translation:\n",
    "## `SQLAlchemy Expression Language` is a way to represent everything dealing with a database using Python. "
   ]
  },
  {
   "cell_type": "markdown",
   "metadata": {},
   "source": [
    "## For this tutorial we will use an in-memory-only SQLite database. "
   ]
  },
  {
   "cell_type": "code",
   "execution_count": 13,
   "metadata": {},
   "outputs": [],
   "source": [
    "from sqlalchemy import create_engine\n",
    "\n",
    "# To make the connection to the sqlite database\n",
    "engine = create_engine('sqlite:///:memory:', echo=True)\n"
   ]
  },
  {
   "cell_type": "markdown",
   "metadata": {},
   "source": [
    "## The `echo` flag is a shortcut to setting up SQLAlchemy logging using Python’s standard logging module.\n",
    "## With it enabled, we’ll see all the generated SQL scripts produced. I believe this is very helpful to see visually what is being done behind the scenes"
   ]
  },
  {
   "cell_type": "markdown",
   "metadata": {},
   "source": [
    "## \"The `engine` is the starting point for any SQLAlchemy application. It’s “home base” for the actual database and its DBAPI, delivered to the SQLAlchemy application through a connection pool and a Dialect...\"\n",
    "https://docs.sqlalchemy.org/en/13/core/engines.html"
   ]
  },
  {
   "cell_type": "code",
   "execution_count": 14,
   "metadata": {},
   "outputs": [
    {
     "data": {
      "text/html": [
       "<img src=\"sqla_engine_arch.png\" width=\"700\"/>\n"
      ],
      "text/plain": [
       "<IPython.core.display.HTML object>"
      ]
     },
     "metadata": {},
     "output_type": "display_data"
    }
   ],
   "source": [
    "%%HTML\n",
    "<img src=\"sqla_engine_arch.png\" width=\"700\"/>"
   ]
  },
  {
   "cell_type": "markdown",
   "metadata": {},
   "source": [
    "## To use the `create_engine` method to an actual sqlite database, here are some examples:"
   ]
  },
  {
   "cell_type": "code",
   "execution_count": 15,
   "metadata": {},
   "outputs": [],
   "source": [
    "# where <path> is relative:\n",
    "engine = create_engine('sqlite:///foo.db')\n",
    "\n",
    "# Linux/Mac - 4 initial slashes in total\n",
    "engine = create_engine('sqlite:////absolute/path/to/foo.db')\n",
    "\n",
    "# Windows\n",
    "engine = create_engine('sqlite:///C:\\\\path\\\\to\\\\foo.db')"
   ]
  },
  {
   "cell_type": "code",
   "execution_count": 16,
   "metadata": {},
   "outputs": [
    {
     "data": {
      "text/plain": [
       "'/Users/jacquescamier/JupyterProjects'"
      ]
     },
     "execution_count": 16,
     "metadata": {},
     "output_type": "execute_result"
    }
   ],
   "source": [
    "## I personally like to do something more like:\n",
    "\n",
    "PROJECT_DIR = os.path.dirname(os.path.abspath(''))\n",
    "\n",
    "# Note you can also do:\n",
    "\n",
    "# os.path.dirname(os.path.abspath(__file__))\n",
    "\n",
    "# But this only works with a python .py file, not in Jupyter notebook .ipynb\n",
    "\n",
    "PROJECT_DIR"
   ]
  },
  {
   "cell_type": "markdown",
   "metadata": {},
   "source": [
    "## Note: the file path will be different for you since `os.path.dirname` etc. is specific to your computer"
   ]
  },
  {
   "cell_type": "code",
   "execution_count": 17,
   "metadata": {},
   "outputs": [
    {
     "data": {
      "text/plain": [
       "'sqlite:////Users/jacquescamier/JupyterProjects/your_database.db'"
      ]
     },
     "execution_count": 17,
     "metadata": {},
     "output_type": "execute_result"
    }
   ],
   "source": [
    "database_path = os.path.join(PROJECT_DIR, 'your_database.db')\n",
    "sqlite_path = f\"sqlite:///{database_path}\"\n",
    "\n",
    "sqlite_path"
   ]
  },
  {
   "cell_type": "code",
   "execution_count": 18,
   "metadata": {},
   "outputs": [
    {
     "data": {
      "text/plain": [
       "Engine(sqlite:////Users/jacquescamier/JupyterProjects/your_database.db)"
      ]
     },
     "execution_count": 18,
     "metadata": {},
     "output_type": "execute_result"
    }
   ],
   "source": [
    "engine = create_engine(sqlite_path)\n",
    "\n",
    "engine"
   ]
  },
  {
   "cell_type": "markdown",
   "metadata": {},
   "source": [
    "## Let's go back to our in-memory example"
   ]
  },
  {
   "cell_type": "code",
   "execution_count": 19,
   "metadata": {},
   "outputs": [],
   "source": [
    "engine = create_engine('sqlite:///:memory:', echo=True)"
   ]
  },
  {
   "cell_type": "markdown",
   "metadata": {},
   "source": [
    "## Now let's import the necessary objects to build a table"
   ]
  },
  {
   "cell_type": "code",
   "execution_count": 20,
   "metadata": {},
   "outputs": [],
   "source": [
    "from sqlalchemy import Table, Column, Integer, String, MetaData, ForeignKey, Boolean"
   ]
  },
  {
   "cell_type": "markdown",
   "metadata": {},
   "source": [
    "## A collection of metadata entities is stored in an object called MetaData\n",
    "## \"MetaData is a container object that keeps together many different features of a database (or multiple databases) being described\"\n",
    "https://docs.sqlalchemy.org/en/13/core/metadata.html#metadata-describing"
   ]
  },
  {
   "cell_type": "code",
   "execution_count": 21,
   "metadata": {},
   "outputs": [],
   "source": [
    "# Instantiate the MetaData object\n",
    "metadata = MetaData()"
   ]
  },
  {
   "cell_type": "code",
   "execution_count": 22,
   "metadata": {},
   "outputs": [],
   "source": [
    "# Define the `users` table:\n",
    "users = Table('users', metadata,\n",
    "              Column('id', Integer, primary_key=True),\n",
    "              Column('first_name', String),\n",
    "              Column('last_name', String),\n",
    "             )\n",
    "\n",
    "# Define the `email` table:\n",
    "email = Table('email', metadata,\n",
    "                 Column('id', Integer, primary_key=True),\n",
    "                 Column('user_id', None, ForeignKey('users.id')),\n",
    "                 Column('email_address', String, nullable=False),\n",
    "                 Column('is_active', Boolean, default=True)\n",
    "                 )"
   ]
  },
  {
   "cell_type": "code",
   "execution_count": 23,
   "metadata": {},
   "outputs": [
    {
     "name": "stdout",
     "output_type": "stream",
     "text": [
      "2020-04-13 18:13:49,642 INFO sqlalchemy.engine.base.Engine SELECT CAST('test plain returns' AS VARCHAR(60)) AS anon_1\n",
      "2020-04-13 18:13:49,643 INFO sqlalchemy.engine.base.Engine ()\n",
      "2020-04-13 18:13:49,644 INFO sqlalchemy.engine.base.Engine SELECT CAST('test unicode returns' AS VARCHAR(60)) AS anon_1\n",
      "2020-04-13 18:13:49,645 INFO sqlalchemy.engine.base.Engine ()\n",
      "2020-04-13 18:13:49,647 INFO sqlalchemy.engine.base.Engine PRAGMA main.table_info(\"users\")\n",
      "2020-04-13 18:13:49,647 INFO sqlalchemy.engine.base.Engine ()\n",
      "2020-04-13 18:13:49,648 INFO sqlalchemy.engine.base.Engine PRAGMA temp.table_info(\"users\")\n",
      "2020-04-13 18:13:49,649 INFO sqlalchemy.engine.base.Engine ()\n",
      "2020-04-13 18:13:49,651 INFO sqlalchemy.engine.base.Engine PRAGMA main.table_info(\"email\")\n",
      "2020-04-13 18:13:49,651 INFO sqlalchemy.engine.base.Engine ()\n",
      "2020-04-13 18:13:49,652 INFO sqlalchemy.engine.base.Engine PRAGMA temp.table_info(\"email\")\n",
      "2020-04-13 18:13:49,653 INFO sqlalchemy.engine.base.Engine ()\n",
      "2020-04-13 18:13:49,654 INFO sqlalchemy.engine.base.Engine \n",
      "CREATE TABLE users (\n",
      "\tid INTEGER NOT NULL, \n",
      "\tfirst_name VARCHAR, \n",
      "\tlast_name VARCHAR, \n",
      "\tPRIMARY KEY (id)\n",
      ")\n",
      "\n",
      "\n",
      "2020-04-13 18:13:49,655 INFO sqlalchemy.engine.base.Engine ()\n",
      "2020-04-13 18:13:49,656 INFO sqlalchemy.engine.base.Engine COMMIT\n",
      "2020-04-13 18:13:49,657 INFO sqlalchemy.engine.base.Engine \n",
      "CREATE TABLE email (\n",
      "\tid INTEGER NOT NULL, \n",
      "\tuser_id INTEGER, \n",
      "\temail_address VARCHAR NOT NULL, \n",
      "\tis_active BOOLEAN, \n",
      "\tPRIMARY KEY (id), \n",
      "\tFOREIGN KEY(user_id) REFERENCES users (id), \n",
      "\tCHECK (is_active IN (0, 1))\n",
      ")\n",
      "\n",
      "\n",
      "2020-04-13 18:13:49,657 INFO sqlalchemy.engine.base.Engine ()\n",
      "2020-04-13 18:13:49,658 INFO sqlalchemy.engine.base.Engine COMMIT\n"
     ]
    }
   ],
   "source": [
    "# Create the tables:\n",
    "metadata.create_all(engine)"
   ]
  },
  {
   "cell_type": "markdown",
   "metadata": {},
   "source": [
    "## ^ As you can see SQLAlchemy did a lot behind the scenes from our few lines of Python code"
   ]
  },
  {
   "cell_type": "markdown",
   "metadata": {},
   "source": [
    "## Let's insert some data into our table"
   ]
  },
  {
   "cell_type": "code",
   "execution_count": 24,
   "metadata": {},
   "outputs": [],
   "source": [
    "ins = users.insert().values(first_name='Bill', last_name='Smith')"
   ]
  },
  {
   "cell_type": "markdown",
   "metadata": {},
   "source": [
    "## To see the insert SQL statement, we can use the str() function"
   ]
  },
  {
   "cell_type": "code",
   "execution_count": 25,
   "metadata": {},
   "outputs": [
    {
     "data": {
      "text/plain": [
       "'INSERT INTO users (first_name, last_name) VALUES (:first_name, :last_name)'"
      ]
     },
     "execution_count": 25,
     "metadata": {},
     "output_type": "execute_result"
    }
   ],
   "source": [
    "str(ins)"
   ]
  },
  {
   "cell_type": "markdown",
   "metadata": {},
   "source": [
    "## To make a connection to the database, we use the `connect` method"
   ]
  },
  {
   "cell_type": "code",
   "execution_count": 26,
   "metadata": {},
   "outputs": [],
   "source": [
    "conn = engine.connect()"
   ]
  },
  {
   "cell_type": "markdown",
   "metadata": {},
   "source": [
    "## Now, let's pass the our assigned SQL insert `ins` to the connection\n",
    "## This is where it actual writes to the database"
   ]
  },
  {
   "cell_type": "code",
   "execution_count": 27,
   "metadata": {},
   "outputs": [
    {
     "name": "stdout",
     "output_type": "stream",
     "text": [
      "2020-04-13 18:13:52,274 INFO sqlalchemy.engine.base.Engine INSERT INTO users (first_name, last_name) VALUES (?, ?)\n",
      "2020-04-13 18:13:52,275 INFO sqlalchemy.engine.base.Engine ('Bill', 'Smith')\n",
      "2020-04-13 18:13:52,277 INFO sqlalchemy.engine.base.Engine COMMIT\n"
     ]
    }
   ],
   "source": [
    "result = conn.execute(ins)"
   ]
  },
  {
   "cell_type": "markdown",
   "metadata": {},
   "source": [
    "## Let's insert another record in the database"
   ]
  },
  {
   "cell_type": "code",
   "execution_count": 28,
   "metadata": {},
   "outputs": [],
   "source": [
    "ins = users.insert().values(first_name='Sally', last_name='Jackson')"
   ]
  },
  {
   "cell_type": "code",
   "execution_count": 29,
   "metadata": {},
   "outputs": [
    {
     "name": "stdout",
     "output_type": "stream",
     "text": [
      "2020-04-13 18:13:53,211 INFO sqlalchemy.engine.base.Engine INSERT INTO users (first_name, last_name) VALUES (?, ?)\n",
      "2020-04-13 18:13:53,212 INFO sqlalchemy.engine.base.Engine ('Sally', 'Jackson')\n",
      "2020-04-13 18:13:53,214 INFO sqlalchemy.engine.base.Engine COMMIT\n"
     ]
    }
   ],
   "source": [
    "result = conn.execute(ins)"
   ]
  },
  {
   "cell_type": "markdown",
   "metadata": {},
   "source": [
    "## Now let's select the data from the database"
   ]
  },
  {
   "cell_type": "code",
   "execution_count": 30,
   "metadata": {},
   "outputs": [
    {
     "name": "stdout",
     "output_type": "stream",
     "text": [
      "2020-04-13 18:13:53,640 INFO sqlalchemy.engine.base.Engine SELECT users.id, users.first_name, users.last_name \n",
      "FROM users\n",
      "2020-04-13 18:13:53,641 INFO sqlalchemy.engine.base.Engine ()\n"
     ]
    }
   ],
   "source": [
    "from sqlalchemy.sql import select\n",
    "\n",
    "select_users = select([users])\n",
    "\n",
    "result = conn.execute(select_users)"
   ]
  },
  {
   "cell_type": "code",
   "execution_count": 31,
   "metadata": {},
   "outputs": [
    {
     "name": "stdout",
     "output_type": "stream",
     "text": [
      "(1, 'Bill', 'Smith')\n",
      "(2, 'Sally', 'Jackson')\n"
     ]
    }
   ],
   "source": [
    "# Iterate through the results:\n",
    "\n",
    "for row in result:\n",
    "    print(row)"
   ]
  },
  {
   "cell_type": "markdown",
   "metadata": {},
   "source": [
    "## In most cases, you are going to want to insert several records at a time by passing a list dictionaries:"
   ]
  },
  {
   "cell_type": "code",
   "execution_count": 32,
   "metadata": {},
   "outputs": [
    {
     "name": "stdout",
     "output_type": "stream",
     "text": [
      "2020-04-13 18:13:54,359 INFO sqlalchemy.engine.base.Engine INSERT INTO email (user_id, email_address, is_active) VALUES (?, ?, ?)\n",
      "2020-04-13 18:13:54,360 INFO sqlalchemy.engine.base.Engine ((1, 'billsmith@somemail.com', 1), (2, 's.jackson@somemail.com', 1))\n",
      "2020-04-13 18:13:54,363 INFO sqlalchemy.engine.base.Engine COMMIT\n"
     ]
    },
    {
     "data": {
      "text/plain": [
       "<sqlalchemy.engine.result.ResultProxy at 0x106af1e90>"
      ]
     },
     "execution_count": 32,
     "metadata": {},
     "output_type": "execute_result"
    }
   ],
   "source": [
    "# You can pass a list of dictionaries\n",
    "conn.execute(email.insert(), [\n",
    "    {'user_id': 1, 'email_address' : 'billsmith@somemail.com'},\n",
    "    {'user_id': 2, 'email_address' : 's.jackson@somemail.com'},\n",
    "    ])"
   ]
  },
  {
   "cell_type": "markdown",
   "metadata": {},
   "source": [
    "# To do a select statement to get one record:"
   ]
  },
  {
   "cell_type": "code",
   "execution_count": 33,
   "metadata": {},
   "outputs": [
    {
     "name": "stdout",
     "output_type": "stream",
     "text": [
      "2020-04-13 18:13:54,834 INFO sqlalchemy.engine.base.Engine SELECT users.id, users.first_name, users.last_name \n",
      "FROM users\n",
      "2020-04-13 18:13:54,836 INFO sqlalchemy.engine.base.Engine ()\n"
     ]
    }
   ],
   "source": [
    "result = conn.execute(select_users)\n",
    "\n",
    "row = result.fetchone()"
   ]
  },
  {
   "cell_type": "code",
   "execution_count": 34,
   "metadata": {},
   "outputs": [
    {
     "name": "stdout",
     "output_type": "stream",
     "text": [
      "(1, 'Bill', 'Smith')\n"
     ]
    }
   ],
   "source": [
    "print(row)"
   ]
  },
  {
   "cell_type": "markdown",
   "metadata": {},
   "source": [
    "## Using a list comprehension:"
   ]
  },
  {
   "cell_type": "code",
   "execution_count": 35,
   "metadata": {},
   "outputs": [
    {
     "name": "stdout",
     "output_type": "stream",
     "text": [
      "2020-04-13 18:13:55,498 INFO sqlalchemy.engine.base.Engine SELECT users.id, users.first_name, users.last_name \n",
      "FROM users\n",
      "2020-04-13 18:13:55,499 INFO sqlalchemy.engine.base.Engine ()\n"
     ]
    }
   ],
   "source": [
    "list_rows = [row for row in conn.execute(select_users)]"
   ]
  },
  {
   "cell_type": "code",
   "execution_count": 36,
   "metadata": {},
   "outputs": [
    {
     "data": {
      "text/plain": [
       "(1, 'Bill', 'Smith')"
      ]
     },
     "execution_count": 36,
     "metadata": {},
     "output_type": "execute_result"
    }
   ],
   "source": [
    "# Print first record\n",
    "list_rows[0]"
   ]
  },
  {
   "cell_type": "markdown",
   "metadata": {},
   "source": [
    "# You can get specific `columns` by using the `c` attribute"
   ]
  },
  {
   "cell_type": "code",
   "execution_count": 37,
   "metadata": {},
   "outputs": [
    {
     "name": "stdout",
     "output_type": "stream",
     "text": [
      "2020-04-13 18:13:56,186 INFO sqlalchemy.engine.base.Engine SELECT users.first_name \n",
      "FROM users\n",
      "2020-04-13 18:13:56,187 INFO sqlalchemy.engine.base.Engine ()\n"
     ]
    },
    {
     "data": {
      "text/plain": [
       "[('Bill',), ('Sally',)]"
      ]
     },
     "execution_count": 37,
     "metadata": {},
     "output_type": "execute_result"
    }
   ],
   "source": [
    "select_first_names = select([users.c.first_name])\n",
    "\n",
    "[row for row in conn.execute(select_first_names)]"
   ]
  },
  {
   "cell_type": "markdown",
   "metadata": {},
   "source": [
    "# We can do some unpacking magic and get rid of the tuple, notice the `,` after the `for row` expression"
   ]
  },
  {
   "cell_type": "code",
   "execution_count": 38,
   "metadata": {},
   "outputs": [
    {
     "name": "stdout",
     "output_type": "stream",
     "text": [
      "2020-04-13 18:13:56,644 INFO sqlalchemy.engine.base.Engine SELECT users.first_name \n",
      "FROM users\n",
      "2020-04-13 18:13:56,645 INFO sqlalchemy.engine.base.Engine ()\n"
     ]
    },
    {
     "data": {
      "text/plain": [
       "['Bill', 'Sally']"
      ]
     },
     "execution_count": 38,
     "metadata": {},
     "output_type": "execute_result"
    }
   ],
   "source": [
    "[row for row, in conn.execute(select_first_names)]"
   ]
  },
  {
   "cell_type": "markdown",
   "metadata": {},
   "source": [
    "# Please recall that we declared a `ForeignKey` relationship between the users and email tables:\n",
    "`Column('user_id', None, ForeignKey('users.id'))`"
   ]
  },
  {
   "cell_type": "markdown",
   "metadata": {},
   "source": [
    "## This sets us up to do joins such as:"
   ]
  },
  {
   "cell_type": "code",
   "execution_count": 39,
   "metadata": {},
   "outputs": [
    {
     "name": "stdout",
     "output_type": "stream",
     "text": [
      "2020-04-13 18:13:57,389 INFO sqlalchemy.engine.base.Engine SELECT users.id, users.first_name, users.last_name, email.id, email.user_id, email.email_address, email.is_active \n",
      "FROM users, email \n",
      "WHERE users.id = email.user_id\n",
      "2020-04-13 18:13:57,390 INFO sqlalchemy.engine.base.Engine ()\n"
     ]
    },
    {
     "data": {
      "text/plain": [
       "[(1, 'Bill', 'Smith', 1, 1, 'billsmith@somemail.com', True),\n",
       " (2, 'Sally', 'Jackson', 2, 2, 's.jackson@somemail.com', True)]"
      ]
     },
     "execution_count": 39,
     "metadata": {},
     "output_type": "execute_result"
    }
   ],
   "source": [
    "select_join_user_and_email = select([users, email]).where(users.c.id == email.c.user_id)\n",
    "\n",
    "[row for row in conn.execute(select_join_user_and_email)]"
   ]
  },
  {
   "cell_type": "markdown",
   "metadata": {},
   "source": [
    "## Here is another way to do joins, albeit a bit more complicated"
   ]
  },
  {
   "cell_type": "code",
   "execution_count": 40,
   "metadata": {},
   "outputs": [
    {
     "name": "stdout",
     "output_type": "stream",
     "text": [
      "2020-04-13 18:13:57,825 INFO sqlalchemy.engine.base.Engine SELECT users.id, users.first_name, users.last_name, email.id, email.user_id, email.email_address, email.is_active \n",
      "FROM users JOIN email ON users.id = email.user_id\n",
      "2020-04-13 18:13:57,826 INFO sqlalchemy.engine.base.Engine ()\n"
     ]
    },
    {
     "data": {
      "text/plain": [
       "[(1, 'Bill', 'Smith', 1, 1, 'billsmith@somemail.com', True),\n",
       " (2, 'Sally', 'Jackson', 2, 2, 's.jackson@somemail.com', True)]"
      ]
     },
     "execution_count": 40,
     "metadata": {},
     "output_type": "execute_result"
    }
   ],
   "source": [
    "from sqlalchemy import join\n",
    "\n",
    "j = users.join(email, users.c.id == email.c.user_id)\n",
    "select_users_email_join = select([users, email]).select_from(j)\n",
    "\n",
    "[row for row in conn.execute(select_users_email_join)]"
   ]
  },
  {
   "cell_type": "markdown",
   "metadata": {},
   "source": [
    "## Now Let's load some data from a csv file and write to the database"
   ]
  },
  {
   "cell_type": "code",
   "execution_count": 100,
   "metadata": {},
   "outputs": [
    {
     "data": {
      "text/plain": [
       "[{'first_name': 'Jerome', 'last_name': 'Walters'},\n",
       " {'first_name': 'Rick', 'last_name': 'Stein'},\n",
       " {'first_name': 'Sam', 'last_name': 'West'},\n",
       " {'first_name': 'Jill', 'last_name': 'Smith'},\n",
       " {'first_name': 'Jan', 'last_name': 'West'},\n",
       " {'first_name': 'Linda', 'last_name': 'Rodriguez'}]"
      ]
     },
     "execution_count": 100,
     "metadata": {},
     "output_type": "execute_result"
    }
   ],
   "source": [
    "import csv\n",
    "\n",
    "with open('users_data.csv', mode='r') as user_file:\n",
    "    reader = csv.reader(user_file, delimiter=',')\n",
    "    headers = next(reader, None)\n",
    "    import_list = [{headers[0]: row[0], headers[1]: row[1]} for idx, row in enumerate(reader)]\n",
    "    \n",
    "\n",
    "import_list"
   ]
  },
  {
   "cell_type": "code",
   "execution_count": 101,
   "metadata": {},
   "outputs": [
    {
     "name": "stdout",
     "output_type": "stream",
     "text": [
      "2020-04-13 20:22:05,032 INFO sqlalchemy.engine.base.Engine INSERT INTO users (first_name, last_name) VALUES (?, ?)\n",
      "2020-04-13 20:22:05,034 INFO sqlalchemy.engine.base.Engine (('Jerome', 'Walters'), ('Rick', 'Stein'), ('Sam', 'West'), ('Jill', 'Smith'), ('Jan', 'West'), ('Linda', 'Rodriguez'))\n",
      "2020-04-13 20:22:05,036 INFO sqlalchemy.engine.base.Engine COMMIT\n"
     ]
    },
    {
     "data": {
      "text/plain": [
       "<sqlalchemy.engine.result.ResultProxy at 0x1042d1ad0>"
      ]
     },
     "execution_count": 101,
     "metadata": {},
     "output_type": "execute_result"
    }
   ],
   "source": [
    "# Insert rows to database\n",
    "conn.execute(users.insert(), import_list)"
   ]
  },
  {
   "cell_type": "code",
   "execution_count": 103,
   "metadata": {},
   "outputs": [
    {
     "name": "stdout",
     "output_type": "stream",
     "text": [
      "2020-04-13 20:24:54,800 INFO sqlalchemy.engine.base.Engine SELECT users.id, users.first_name, users.last_name \n",
      "FROM users\n",
      "2020-04-13 20:24:54,801 INFO sqlalchemy.engine.base.Engine ()\n"
     ]
    },
    {
     "data": {
      "text/plain": [
       "[(1, 'Bill', 'Smith'),\n",
       " (2, 'Sally', 'Jackson'),\n",
       " (3, 'Jerome', 'Walters'),\n",
       " (4, 'Rick', 'Stein'),\n",
       " (5, 'Sam', 'West'),\n",
       " (6, 'Jill', 'Smith'),\n",
       " (7, 'Jan', 'West'),\n",
       " (8, 'Linda', 'Rodriguez')]"
      ]
     },
     "execution_count": 103,
     "metadata": {},
     "output_type": "execute_result"
    }
   ],
   "source": [
    "# Select all users\n",
    "result = conn.execute(select([users]))\n",
    "\n",
    "[row for row in result]"
   ]
  },
  {
   "cell_type": "markdown",
   "metadata": {},
   "source": [
    "## Select all users where last name is Smith"
   ]
  },
  {
   "cell_type": "code",
   "execution_count": 111,
   "metadata": {},
   "outputs": [
    {
     "name": "stdout",
     "output_type": "stream",
     "text": [
      "2020-04-13 20:39:46,047 INFO sqlalchemy.engine.base.Engine SELECT users.last_name || ? || users.first_name AS anon_1 \n",
      "FROM users \n",
      "WHERE users.last_name = ?\n",
      "2020-04-13 20:39:46,048 INFO sqlalchemy.engine.base.Engine (', ', 'Smith')\n"
     ]
    },
    {
     "data": {
      "text/plain": [
       "[('Smith, Bill',), ('Smith, Jill',)]"
      ]
     },
     "execution_count": 111,
     "metadata": {},
     "output_type": "execute_result"
    }
   ],
   "source": [
    "s = select([(users.c.last_name + \", \" + users.c.first_name)]).where(users.c.last_name==\"Smith\")\n",
    "\n",
    "conn.execute(s).fetchall()"
   ]
  }
 ],
 "metadata": {
  "kernelspec": {
   "display_name": "Python 3",
   "language": "python",
   "name": "python3"
  },
  "language_info": {
   "codemirror_mode": {
    "name": "ipython",
    "version": 3
   },
   "file_extension": ".py",
   "mimetype": "text/x-python",
   "name": "python",
   "nbconvert_exporter": "python",
   "pygments_lexer": "ipython3",
   "version": "3.7.4"
  }
 },
 "nbformat": 4,
 "nbformat_minor": 2
}

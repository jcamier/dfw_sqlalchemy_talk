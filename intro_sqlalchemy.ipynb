{
 "cells": [
  {
   "cell_type": "markdown",
   "metadata": {},
   "source": [
    "<h1>Introduction to <i style=\"color:red;\">SQLAlchemy</i></h1>"
   ]
  },
  {
   "cell_type": "code",
   "execution_count": 1,
   "metadata": {},
   "outputs": [
    {
     "data": {
      "text/html": [
       "<img src=\"sqla_logo.png\" width=\"300\"/>\n"
      ],
      "text/plain": [
       "<IPython.core.display.HTML object>"
      ]
     },
     "metadata": {},
     "output_type": "display_data"
    }
   ],
   "source": [
    "%%HTML\n",
    "<img src=\"sqla_logo.png\" width=\"300\"/>"
   ]
  },
  {
   "cell_type": "markdown",
   "metadata": {},
   "source": [
    "## <i>by Jack Camier, Python Developer</i>"
   ]
  },
  {
   "cell_type": "markdown",
   "metadata": {},
   "source": [
    "SQLAlchemy is well documented at: https://www.sqlalchemy.org/"
   ]
  },
  {
   "cell_type": "markdown",
   "metadata": {},
   "source": [
    "<h2>created by <i style=\"color:blue;\">Mike Bayer</i></h2>"
   ]
  },
  {
   "cell_type": "markdown",
   "metadata": {},
   "source": [
    "https://github.com/zzzeek"
   ]
  },
  {
   "cell_type": "markdown",
   "metadata": {},
   "source": [
    "## There are a lot of tutorials on the subject, honestly too many to count.\n",
    "## I hope to provide a tutorial that provides, some cookbook recipes (code snippets) and a little bit more visualization via a Jupyter Notebook to help developers better grasp the concepts than what I have found on the internet\n",
    "<hr>"
   ]
  },
  {
   "cell_type": "markdown",
   "metadata": {},
   "source": [
    "## \"SQLAlchemy is the Python SQL toolkit and Object Relational Mapper that gives application developers the full power and flexibility of SQL\" - Mike Bayer\n",
    "https://www.sqlalchemy.org/\n",
    "<hr>"
   ]
  },
  {
   "cell_type": "markdown",
   "metadata": {},
   "source": [
    "## Our tutorial today will be using SQLite"
   ]
  },
  {
   "cell_type": "code",
   "execution_count": 2,
   "metadata": {},
   "outputs": [
    {
     "data": {
      "text/html": [
       "<img src=\"sqlite_logo.gif\" width=\"200\"/>\n"
      ],
      "text/plain": [
       "<IPython.core.display.HTML object>"
      ]
     },
     "metadata": {},
     "output_type": "display_data"
    }
   ],
   "source": [
    "%%HTML\n",
    "<img src=\"sqlite_logo.gif\" width=\"200\"/>"
   ]
  },
  {
   "cell_type": "markdown",
   "metadata": {},
   "source": [
    "https://www.sqlite.org/index.html"
   ]
  },
  {
   "cell_type": "markdown",
   "metadata": {},
   "source": [
    "## The reason being you won't have to download or install anything in regards to a database perspective to do this tutorial \n",
    "## Also, `sqlite3` comes built-in with standard `Cpython`"
   ]
  },
  {
   "cell_type": "code",
   "execution_count": 3,
   "metadata": {},
   "outputs": [],
   "source": [
    "import sqlite3 # That's it!"
   ]
  },
  {
   "cell_type": "markdown",
   "metadata": {},
   "source": [
    "## \"SQLite is a C-language library that implements a small, fast, self-contained, high-reliability, full-featured, SQL database engine. SQLite is the most used database engine in the world. SQLite is built into all mobile phones and most computers and comes bundled inside countless other applications that people use every day.\"\n",
    "https://www.sqlite.org/index.html"
   ]
  },
  {
   "cell_type": "markdown",
   "metadata": {},
   "source": [
    "## Now you could do things like the following to work with sqlite using the standard library `sqlite3` such as:"
   ]
  },
  {
   "cell_type": "code",
   "execution_count": 20,
   "metadata": {},
   "outputs": [
    {
     "data": {
      "text/plain": [
       "{'id': '85b7a2de-87bc-4c6d-b891-73f0e873fb22',\n",
       " 'first_name': 'Bill',\n",
       " 'last_name': 'Smith',\n",
       " 'email': 'b.smith@mail.com'}"
      ]
     },
     "execution_count": 20,
     "metadata": {},
     "output_type": "execute_result"
    }
   ],
   "source": [
    "import uuid\n",
    "\n",
    "sql_values = {\n",
    "\"id\": str(uuid.uuid4()),\n",
    "\"first_name\": \"Bill\",\n",
    "\"last_name\": \"Smith\",\n",
    "\"email\": \"b.smith@mail.com\"\n",
    "}\n",
    "\n",
    "sql_values"
   ]
  },
  {
   "cell_type": "code",
   "execution_count": 21,
   "metadata": {},
   "outputs": [
    {
     "data": {
      "text/plain": [
       "<sqlite3.Cursor at 0x10fa8dce0>"
      ]
     },
     "execution_count": 21,
     "metadata": {},
     "output_type": "execute_result"
    }
   ],
   "source": [
    "# Create connection session and database\n",
    "conn = sqlite3.connect('example.db')\n",
    "\n",
    "# Create cursor and assign it to `c`\n",
    "c = conn.cursor()\n",
    "\n",
    "# Create table using raw SQL\n",
    "c.execute('''CREATE TABLE users (id text, first_name text, last_name text, email text)''')"
   ]
  },
  {
   "cell_type": "code",
   "execution_count": 22,
   "metadata": {},
   "outputs": [],
   "source": [
    "# Insert a row of data \n",
    "c.execute('INSERT INTO users VALUES (:id, :first_name, :last_name, :email)', sql_values)\n",
    "conn.commit()"
   ]
  },
  {
   "cell_type": "code",
   "execution_count": 23,
   "metadata": {},
   "outputs": [
    {
     "name": "stdout",
     "output_type": "stream",
     "text": [
      "('85b7a2de-87bc-4c6d-b891-73f0e873fb22', 'Bill', 'Smith', 'b.smith@mail.com')\n"
     ]
    }
   ],
   "source": [
    "# Select the data and print out row results\n",
    "sql = c.execute('''SELECT * from users''')\n",
    "for row in sql:\n",
    "    print(row)"
   ]
  },
  {
   "cell_type": "code",
   "execution_count": 24,
   "metadata": {},
   "outputs": [],
   "source": [
    "# Remove temporary `example.db` database\n",
    "import os\n",
    "os.remove(\"example.db\")"
   ]
  },
  {
   "cell_type": "markdown",
   "metadata": {},
   "source": [
    "## For simple things like this, we probably don't need SQLAlchemy. But normally within a short period of time, requirments of a project or feautures of a product change rapidly and we need to do something more like:"
   ]
  },
  {
   "cell_type": "code",
   "execution_count": 8,
   "metadata": {},
   "outputs": [
    {
     "data": {
      "text/plain": [
       "\"\\nselect \\n  'today - ' || to_char(trunc(sysdate),'Mon FMDDFM'),\\n  trunc(sysdate) as deadline\\nfrom dual \\nUNION\\nselect \\n  'tomorrow - '|| to_char(trunc(sysdate+1),'Mon FMDDFM'), \\n  trunc(sysdate+1) as deadline\\nfrom dual \\nUNION\\nselect\\n  'next week - '|| to_char(trunc(sysdate+7),'Mon FMDDFM'), \\n  trunc(sysdate+7) as deadline\\nfrom dual \\nUNION\\nselect \\n  'next month - '|| to_char(trunc(ADD_MONTHS(sysdate,1)),'Mon FMDDFM'), \\n  trunc(ADD_MONTHS(sysdate,1)) as deadline \\nfrom dual\\nUNION\\nselect \\n  name || ' - ' || to_char(deadline, 'Mon FMDDFM'), \\n  deadline\\nfrom ticket_deadlines \\nwhere project_id = :project_id\\nand deadline >= trunc(sysdate)\\norder by deadline\\n\""
      ]
     },
     "execution_count": 8,
     "metadata": {},
     "output_type": "execute_result"
    }
   ],
   "source": [
    "\"\"\"\n",
    "select \n",
    "  'today - ' || to_char(trunc(sysdate),'Mon FMDDFM'),\n",
    "  trunc(sysdate) as deadline\n",
    "from dual \n",
    "UNION\n",
    "select \n",
    "  'tomorrow - '|| to_char(trunc(sysdate+1),'Mon FMDDFM'), \n",
    "  trunc(sysdate+1) as deadline\n",
    "from dual \n",
    "UNION\n",
    "select\n",
    "  'next week - '|| to_char(trunc(sysdate+7),'Mon FMDDFM'), \n",
    "  trunc(sysdate+7) as deadline\n",
    "from dual \n",
    "UNION\n",
    "select \n",
    "  'next month - '|| to_char(trunc(ADD_MONTHS(sysdate,1)),'Mon FMDDFM'), \n",
    "  trunc(ADD_MONTHS(sysdate,1)) as deadline \n",
    "from dual\n",
    "UNION\n",
    "select \n",
    "  name || ' - ' || to_char(deadline, 'Mon FMDDFM'), \n",
    "  deadline\n",
    "from ticket_deadlines \n",
    "where project_id = :project_id\n",
    "and deadline >= trunc(sysdate)\n",
    "order by deadline\n",
    "\"\"\"\n",
    "# https://philip.greenspun.com/sql/complex-queries.html"
   ]
  },
  {
   "cell_type": "markdown",
   "metadata": {},
   "source": [
    "## \"I wrote a reporting query once that was 700 lines long and visited 27 different tables in lookups or joins\" - Greg Kemnitz\n",
    "https://www.quora.com/Whats-the-most-complex-SQL-query-you-ever-wrote"
   ]
  },
  {
   "cell_type": "markdown",
   "metadata": {},
   "source": [
    "## Figuring out how to do this in raw SQL can be very challenging if you are not a DBA or well versed in SQL syntax.\n",
    "## With SQLAlchemy we can use the abstraction layer and write python code we are more familiar with and let the toolkit do the SQL magic behind the scenes"
   ]
  },
  {
   "cell_type": "markdown",
   "metadata": {},
   "source": [
    "## First there are two main components of SQLAlchemy:\n",
    "## \"SQLAlchemy consists of two distinct components, known as the <i style=\"color:red;\">Core</i> and the <i style=\"color:red;\">ORM</i>. \n",
    "## The Core is itself a fully featured SQL abstraction toolkit, providing a smooth layer of abstraction over a wide variety of DBAPI implementations and behaviors, as well as a SQL Expression Language which allows expression of the SQL language via generative Python expressions.\"\n",
    "\n",
    "## \"The Object Relational Mapper (ORM) is then an optional package which builds upon the Core.\"\n",
    "https://www.sqlalchemy.org/features.html"
   ]
  },
  {
   "cell_type": "code",
   "execution_count": 43,
   "metadata": {},
   "outputs": [
    {
     "data": {
      "text/html": [
       "<img src=\"sqla_arch_small.png\" width=\"500\"/>\n",
       "\n",
       "https://docs.sqlalchemy.org/en/13/intro.html\n"
      ],
      "text/plain": [
       "<IPython.core.display.HTML object>"
      ]
     },
     "metadata": {},
     "output_type": "display_data"
    }
   ],
   "source": [
    "%%HTML\n",
    "<img src=\"sqla_arch_small.png\" width=\"500\"/>\n",
    "\n",
    "https://docs.sqlalchemy.org/en/13/intro.html"
   ]
  },
  {
   "cell_type": "markdown",
   "metadata": {},
   "source": [
    "## To get sqlalchemy installed, all you have to do is:\n",
    "`pip install SQLAlchemy`\n",
    "## Then"
   ]
  },
  {
   "cell_type": "code",
   "execution_count": 10,
   "metadata": {},
   "outputs": [],
   "source": [
    "import sqlalchemy"
   ]
  },
  {
   "cell_type": "markdown",
   "metadata": {},
   "source": [
    "## In this talk, I am using version:"
   ]
  },
  {
   "cell_type": "code",
   "execution_count": 11,
   "metadata": {},
   "outputs": [
    {
     "data": {
      "text/plain": [
       "'1.3.9'"
      ]
     },
     "execution_count": 11,
     "metadata": {},
     "output_type": "execute_result"
    }
   ],
   "source": [
    "sqlalchemy.__version__"
   ]
  },
  {
   "cell_type": "markdown",
   "metadata": {},
   "source": [
    "# To get started, we will commence looking at the Core component of SQLAlchemy"
   ]
  },
  {
   "cell_type": "markdown",
   "metadata": {},
   "source": [
    "## Please note that individual database flavors, also called, `dialects` enumerate the available DBAPIs for each database\n",
    "## Most seasoned developers learn that each database has its own nuances and slight variations of SQL syntax depending on the database. \n",
    "## Here are a list of popular `dialects`:"
   ]
  },
  {
   "cell_type": "markdown",
   "metadata": {},
   "source": [
    "# - PostgreSQL\n",
    "https://docs.sqlalchemy.org/en/13/dialects/postgresql.html\n",
    "# - MySQL\n",
    "https://docs.sqlalchemy.org/en/13/dialects/mysql.html\n",
    "# - SQLite\n",
    "https://docs.sqlalchemy.org/en/13/dialects/sqlite.html\n",
    "# - Oracle\n",
    "https://docs.sqlalchemy.org/en/13/dialects/oracle.html\n",
    "# - Microsoft SQL Server\n",
    "https://docs.sqlalchemy.org/en/13/dialects/mssql.html\n",
    "<hr>"
   ]
  },
  {
   "cell_type": "markdown",
   "metadata": {},
   "source": [
    "## Since our focus will be SQLite, here the main data type affinities:\n",
    "* TEXT\n",
    "* NUMERIC\n",
    "* INTEGER\n",
    "* REAL\n",
    "* BLOB\n",
    "\n",
    "https://www.sqlite.org/datatype3.html#affinity\n",
    "<hr>"
   ]
  },
  {
   "cell_type": "markdown",
   "metadata": {},
   "source": [
    "## \"The SQLAlchemy Expression Language presents a system of representing relational database structures and expressions using Python constructs. These constructs are modeled to resemble those of the underlying database as closely as possible, while providing a modicum of abstraction of the various implementation differences between database backends.\"\n",
    "https://docs.sqlalchemy.org/en/13/core/tutorial.html"
   ]
  },
  {
   "cell_type": "markdown",
   "metadata": {},
   "source": [
    "##  <i style=\"color:red;\">Huh!?</i> Translation:\n",
    "## `SQLAlchemy Expression Language` is a way to represent everything dealing with a database using Python. "
   ]
  },
  {
   "cell_type": "markdown",
   "metadata": {},
   "source": [
    "# For this tutorial we will use an in-memory-only SQLite database. "
   ]
  },
  {
   "cell_type": "code",
   "execution_count": 30,
   "metadata": {},
   "outputs": [],
   "source": [
    "from sqlalchemy import create_engine\n",
    "\n",
    "# To make the connection to the sqlite database\n",
    "engine = create_engine('sqlite:///:memory:', echo=True)\n"
   ]
  },
  {
   "cell_type": "markdown",
   "metadata": {},
   "source": [
    "## The `echo` flag is a shortcut to setting up SQLAlchemy logging using Python’s standard logging module.\n",
    "## With it enabled, we’ll see all the generated SQL produced. Very helpful to see visually what is being done behind the scenes"
   ]
  },
  {
   "cell_type": "markdown",
   "metadata": {},
   "source": [
    "## \"The `engine` is the starting point for any SQLAlchemy application. It’s “home base” for the actual database and its DBAPI, delivered to the SQLAlchemy application through a connection pool and a Dialect...\"\n",
    "https://docs.sqlalchemy.org/en/13/core/engines.html"
   ]
  },
  {
   "cell_type": "code",
   "execution_count": 31,
   "metadata": {},
   "outputs": [
    {
     "data": {
      "text/html": [
       "<img src=\"sqla_engine_arch.png\" width=\"700\"/>\n"
      ],
      "text/plain": [
       "<IPython.core.display.HTML object>"
      ]
     },
     "metadata": {},
     "output_type": "display_data"
    }
   ],
   "source": [
    "%%HTML\n",
    "<img src=\"sqla_engine_arch.png\" width=\"700\"/>"
   ]
  },
  {
   "cell_type": "markdown",
   "metadata": {},
   "source": [
    "## To use the `create_engine` method to an actual sqlite database, here are some examples:"
   ]
  },
  {
   "cell_type": "code",
   "execution_count": 37,
   "metadata": {},
   "outputs": [],
   "source": [
    "# where <path> is relative:\n",
    "engine = create_engine('sqlite:///foo.db')\n",
    "\n",
    "# Linux/Mac - 4 initial slashes in total\n",
    "engine = create_engine('sqlite:////absolute/path/to/foo.db')\n",
    "\n",
    "# Windows\n",
    "engine = create_engine('sqlite:///C:\\\\path\\\\to\\\\foo.db')"
   ]
  },
  {
   "cell_type": "code",
   "execution_count": 58,
   "metadata": {},
   "outputs": [
    {
     "data": {
      "text/plain": [
       "'/Users/jacquescamier/JupyterProjects'"
      ]
     },
     "execution_count": 58,
     "metadata": {},
     "output_type": "execute_result"
    }
   ],
   "source": [
    "## I personally like to do something more like:\n",
    "\n",
    "PROJECT_DIR = os.path.dirname(os.path.abspath(''))\n",
    "\n",
    "# Note you can also do:\n",
    "\n",
    "# os.path.dirname(os.path.abspath(__file__))\n",
    "\n",
    "# But this only works in pure python .py files, not in Jupyter notebooks .ipynb\n",
    "\n",
    "PROJECT_DIR"
   ]
  },
  {
   "cell_type": "markdown",
   "metadata": {},
   "source": [
    "## Note: the file path will be different for you since `os.path.dirname` etc. is specific to your computer"
   ]
  },
  {
   "cell_type": "code",
   "execution_count": 59,
   "metadata": {},
   "outputs": [
    {
     "data": {
      "text/plain": [
       "'sqlite:////Users/jacquescamier/JupyterProjects/your_database.db'"
      ]
     },
     "execution_count": 59,
     "metadata": {},
     "output_type": "execute_result"
    }
   ],
   "source": [
    "database_path = os.path.join(PROJECT_DIR, 'your_database.db')\n",
    "sqlite_path = f\"sqlite:///{database_path}\"\n",
    "\n",
    "sqlite_path"
   ]
  },
  {
   "cell_type": "code",
   "execution_count": 60,
   "metadata": {},
   "outputs": [],
   "source": [
    "engine = create_engine(sqlite_path_str)"
   ]
  },
  {
   "cell_type": "markdown",
   "metadata": {},
   "source": [
    "## Let's go back to our in-memory example"
   ]
  },
  {
   "cell_type": "code",
   "execution_count": 61,
   "metadata": {},
   "outputs": [],
   "source": [
    "engine = create_engine('sqlite:///:memory:', echo=True)"
   ]
  },
  {
   "cell_type": "code",
   "execution_count": null,
   "metadata": {},
   "outputs": [],
   "source": []
  }
 ],
 "metadata": {
  "kernelspec": {
   "display_name": "Python 3",
   "language": "python",
   "name": "python3"
  },
  "language_info": {
   "codemirror_mode": {
    "name": "ipython",
    "version": 3
   },
   "file_extension": ".py",
   "mimetype": "text/x-python",
   "name": "python",
   "nbconvert_exporter": "python",
   "pygments_lexer": "ipython3",
   "version": "3.7.4"
  }
 },
 "nbformat": 4,
 "nbformat_minor": 2
}
